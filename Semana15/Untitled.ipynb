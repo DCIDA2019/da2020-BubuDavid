{
 "cells": [
  {
   "cell_type": "markdown",
   "metadata": {},
   "source": [
    "# Reducción  de la dimensionalidad "
   ]
  },
  {
   "cell_type": "markdown",
   "metadata": {},
   "source": [
    "Opciones para reducir la dimensionalidad\n",
    "- Puedes eliminar variables que no afecten tanto a la observación\n",
    "- Extracción de variables. Creamos nuevas variables ordenadas con respecto a qué tan bien predicen la observable. Usamos solo las n-primeras nuevas variables. Eg. PCA (La más chida)"
   ]
  },
  {
   "cell_type": "markdown",
   "metadata": {},
   "source": [
    "- PCA: Análisis de componentes principiales\n",
    "    - Contras: Con las nuevas variables es más difícil interpretarlas\n",
    "    - Pros: Se reduce el número de variables sin tener que hacer juicios sobre cuál es más o menos importante; Las nuevas variables son independientes; Podemos hacer regresiones lineales con las nuevas variables"
   ]
  },
  {
   "cell_type": "markdown",
   "metadata": {},
   "source": [
    "**Nota:** ¿Qué es la Matriz de covarianza? Cómo varían las distintas variables"
   ]
  },
  {
   "cell_type": "code",
   "execution_count": null,
   "metadata": {},
   "outputs": [],
   "source": []
  }
 ],
 "metadata": {
  "kernelspec": {
   "display_name": "Python 3",
   "language": "python",
   "name": "python3"
  },
  "language_info": {
   "codemirror_mode": {
    "name": "ipython",
    "version": 3
   },
   "file_extension": ".py",
   "mimetype": "text/x-python",
   "name": "python",
   "nbconvert_exporter": "python",
   "pygments_lexer": "ipython3",
   "version": "3.8.1"
  }
 },
 "nbformat": 4,
 "nbformat_minor": 4
}
