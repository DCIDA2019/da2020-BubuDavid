{
 "cells": [
  {
   "cell_type": "code",
   "execution_count": 1,
   "metadata": {},
   "outputs": [],
   "source": [
    "import pandas as pd\n",
    "import numpy as np\n",
    "import matplotlib.pyplot as plt\n",
    "from scipy.optimize import minimize"
   ]
  },
  {
   "cell_type": "code",
   "execution_count": 2,
   "metadata": {},
   "outputs": [],
   "source": [
    "# To print extended table\n",
    "#pd.set_option('display.max_columns', None)  # or 1000\n",
    "#pd.set_option('display.max_rows', None)  # or 1000"
   ]
  },
  {
   "cell_type": "code",
   "execution_count": 3,
   "metadata": {
    "scrolled": true
   },
   "outputs": [
    {
     "data": {
      "text/html": [
       "<div>\n",
       "<style scoped>\n",
       "    .dataframe tbody tr th:only-of-type {\n",
       "        vertical-align: middle;\n",
       "    }\n",
       "\n",
       "    .dataframe tbody tr th {\n",
       "        vertical-align: top;\n",
       "    }\n",
       "\n",
       "    .dataframe thead th {\n",
       "        text-align: right;\n",
       "    }\n",
       "</style>\n",
       "<table border=\"1\" class=\"dataframe\">\n",
       "  <thead>\n",
       "    <tr style=\"text-align: right;\">\n",
       "      <th></th>\n",
       "      <th>#name</th>\n",
       "      <th>zcmb</th>\n",
       "      <th>zhel</th>\n",
       "      <th>dz</th>\n",
       "      <th>mb</th>\n",
       "      <th>dmb</th>\n",
       "      <th>x1</th>\n",
       "      <th>dx1</th>\n",
       "      <th>color</th>\n",
       "      <th>dcolor</th>\n",
       "      <th>...</th>\n",
       "      <th>d3rdvar</th>\n",
       "      <th>tmax</th>\n",
       "      <th>dtmax</th>\n",
       "      <th>cov_m_s</th>\n",
       "      <th>cov_m_c</th>\n",
       "      <th>cov_s_c</th>\n",
       "      <th>set</th>\n",
       "      <th>ra</th>\n",
       "      <th>dec</th>\n",
       "      <th>biascor</th>\n",
       "    </tr>\n",
       "  </thead>\n",
       "  <tbody>\n",
       "    <tr>\n",
       "      <th>648</th>\n",
       "      <td>sn1999ac</td>\n",
       "      <td>0.010060</td>\n",
       "      <td>0.009500</td>\n",
       "      <td>0</td>\n",
       "      <td>14.148421</td>\n",
       "      <td>0.174566</td>\n",
       "      <td>0.202688</td>\n",
       "      <td>0.068440</td>\n",
       "      <td>0.048593</td>\n",
       "      <td>0.025981</td>\n",
       "      <td>...</td>\n",
       "      <td>0.128500</td>\n",
       "      <td>51250.610935</td>\n",
       "      <td>0.078970</td>\n",
       "      <td>0.000244</td>\n",
       "      <td>0.000652</td>\n",
       "      <td>-0.000154</td>\n",
       "      <td>3</td>\n",
       "      <td>241.812542</td>\n",
       "      <td>7.972333</td>\n",
       "      <td>-0.008427</td>\n",
       "    </tr>\n",
       "    <tr>\n",
       "      <th>691</th>\n",
       "      <td>sn2004s</td>\n",
       "      <td>0.010291</td>\n",
       "      <td>0.009370</td>\n",
       "      <td>0</td>\n",
       "      <td>14.157498</td>\n",
       "      <td>0.173593</td>\n",
       "      <td>-0.117402</td>\n",
       "      <td>0.082511</td>\n",
       "      <td>0.022258</td>\n",
       "      <td>0.024846</td>\n",
       "      <td>...</td>\n",
       "      <td>0.280891</td>\n",
       "      <td>53040.308109</td>\n",
       "      <td>0.290845</td>\n",
       "      <td>-0.000483</td>\n",
       "      <td>0.000665</td>\n",
       "      <td>-0.000348</td>\n",
       "      <td>3</td>\n",
       "      <td>101.431250</td>\n",
       "      <td>-31.231250</td>\n",
       "      <td>-0.008430</td>\n",
       "    </tr>\n",
       "    <tr>\n",
       "      <th>641</th>\n",
       "      <td>sn1997do</td>\n",
       "      <td>0.010550</td>\n",
       "      <td>0.010120</td>\n",
       "      <td>0</td>\n",
       "      <td>14.449314</td>\n",
       "      <td>0.173090</td>\n",
       "      <td>0.791332</td>\n",
       "      <td>0.187870</td>\n",
       "      <td>0.118415</td>\n",
       "      <td>0.030547</td>\n",
       "      <td>...</td>\n",
       "      <td>0.280891</td>\n",
       "      <td>50766.597803</td>\n",
       "      <td>0.115604</td>\n",
       "      <td>0.003521</td>\n",
       "      <td>0.000989</td>\n",
       "      <td>0.001322</td>\n",
       "      <td>3</td>\n",
       "      <td>111.677083</td>\n",
       "      <td>47.093333</td>\n",
       "      <td>-0.008434</td>\n",
       "    </tr>\n",
       "    <tr>\n",
       "      <th>673</th>\n",
       "      <td>sn2002dp</td>\n",
       "      <td>0.010888</td>\n",
       "      <td>0.011638</td>\n",
       "      <td>0</td>\n",
       "      <td>14.557203</td>\n",
       "      <td>0.169021</td>\n",
       "      <td>-0.316464</td>\n",
       "      <td>0.184325</td>\n",
       "      <td>0.054095</td>\n",
       "      <td>0.023005</td>\n",
       "      <td>...</td>\n",
       "      <td>0.363500</td>\n",
       "      <td>52451.216137</td>\n",
       "      <td>0.133147</td>\n",
       "      <td>0.001596</td>\n",
       "      <td>0.000487</td>\n",
       "      <td>0.001020</td>\n",
       "      <td>3</td>\n",
       "      <td>352.125430</td>\n",
       "      <td>22.427240</td>\n",
       "      <td>-0.008440</td>\n",
       "    </tr>\n",
       "    <tr>\n",
       "      <th>713</th>\n",
       "      <td>sn2006bh</td>\n",
       "      <td>0.011184</td>\n",
       "      <td>0.010900</td>\n",
       "      <td>0</td>\n",
       "      <td>14.342973</td>\n",
       "      <td>0.166533</td>\n",
       "      <td>-1.648794</td>\n",
       "      <td>0.032216</td>\n",
       "      <td>-0.083155</td>\n",
       "      <td>0.019407</td>\n",
       "      <td>...</td>\n",
       "      <td>0.352000</td>\n",
       "      <td>53833.523740</td>\n",
       "      <td>0.039787</td>\n",
       "      <td>-0.000039</td>\n",
       "      <td>0.000286</td>\n",
       "      <td>-0.000115</td>\n",
       "      <td>3</td>\n",
       "      <td>340.067078</td>\n",
       "      <td>-66.485085</td>\n",
       "      <td>-0.008446</td>\n",
       "    </tr>\n",
       "    <tr>\n",
       "      <th>...</th>\n",
       "      <td>...</td>\n",
       "      <td>...</td>\n",
       "      <td>...</td>\n",
       "      <td>...</td>\n",
       "      <td>...</td>\n",
       "      <td>...</td>\n",
       "      <td>...</td>\n",
       "      <td>...</td>\n",
       "      <td>...</td>\n",
       "      <td>...</td>\n",
       "      <td>...</td>\n",
       "      <td>...</td>\n",
       "      <td>...</td>\n",
       "      <td>...</td>\n",
       "      <td>...</td>\n",
       "      <td>...</td>\n",
       "      <td>...</td>\n",
       "      <td>...</td>\n",
       "      <td>...</td>\n",
       "      <td>...</td>\n",
       "      <td>...</td>\n",
       "    </tr>\n",
       "    <tr>\n",
       "      <th>225</th>\n",
       "      <td>06D3en</td>\n",
       "      <td>1.060801</td>\n",
       "      <td>1.060000</td>\n",
       "      <td>0</td>\n",
       "      <td>24.707870</td>\n",
       "      <td>0.132013</td>\n",
       "      <td>-0.952679</td>\n",
       "      <td>0.412773</td>\n",
       "      <td>-0.158207</td>\n",
       "      <td>0.061030</td>\n",
       "      <td>...</td>\n",
       "      <td>0.935000</td>\n",
       "      <td>53881.407872</td>\n",
       "      <td>0.949506</td>\n",
       "      <td>0.010444</td>\n",
       "      <td>-0.003050</td>\n",
       "      <td>0.004456</td>\n",
       "      <td>1</td>\n",
       "      <td>215.305567</td>\n",
       "      <td>52.456079</td>\n",
       "      <td>-0.036389</td>\n",
       "    </tr>\n",
       "    <tr>\n",
       "      <th>242</th>\n",
       "      <td>Gabi</td>\n",
       "      <td>1.120850</td>\n",
       "      <td>1.120000</td>\n",
       "      <td>0</td>\n",
       "      <td>25.147113</td>\n",
       "      <td>0.121686</td>\n",
       "      <td>0.620453</td>\n",
       "      <td>0.307485</td>\n",
       "      <td>-0.075491</td>\n",
       "      <td>0.053200</td>\n",
       "      <td>...</td>\n",
       "      <td>0.296000</td>\n",
       "      <td>53488.738514</td>\n",
       "      <td>0.524573</td>\n",
       "      <td>0.004032</td>\n",
       "      <td>0.000388</td>\n",
       "      <td>0.005988</td>\n",
       "      <td>4</td>\n",
       "      <td>189.057630</td>\n",
       "      <td>62.202100</td>\n",
       "      <td>0.000000</td>\n",
       "    </tr>\n",
       "    <tr>\n",
       "      <th>243</th>\n",
       "      <td>Lancaster</td>\n",
       "      <td>1.230892</td>\n",
       "      <td>1.230000</td>\n",
       "      <td>0</td>\n",
       "      <td>26.046776</td>\n",
       "      <td>0.128558</td>\n",
       "      <td>-0.077374</td>\n",
       "      <td>0.690464</td>\n",
       "      <td>0.087011</td>\n",
       "      <td>0.048271</td>\n",
       "      <td>...</td>\n",
       "      <td>0.194500</td>\n",
       "      <td>53431.841687</td>\n",
       "      <td>1.597837</td>\n",
       "      <td>0.003542</td>\n",
       "      <td>0.000211</td>\n",
       "      <td>0.008241</td>\n",
       "      <td>4</td>\n",
       "      <td>189.236330</td>\n",
       "      <td>62.214814</td>\n",
       "      <td>0.000000</td>\n",
       "    </tr>\n",
       "    <tr>\n",
       "      <th>614</th>\n",
       "      <td>Torngasek</td>\n",
       "      <td>1.265901</td>\n",
       "      <td>1.265000</td>\n",
       "      <td>0</td>\n",
       "      <td>25.735598</td>\n",
       "      <td>0.128614</td>\n",
       "      <td>0.286816</td>\n",
       "      <td>0.559546</td>\n",
       "      <td>0.021062</td>\n",
       "      <td>0.047718</td>\n",
       "      <td>...</td>\n",
       "      <td>0.391000</td>\n",
       "      <td>52693.622067</td>\n",
       "      <td>1.790259</td>\n",
       "      <td>-0.003817</td>\n",
       "      <td>-0.000169</td>\n",
       "      <td>0.003064</td>\n",
       "      <td>4</td>\n",
       "      <td>189.331960</td>\n",
       "      <td>62.310417</td>\n",
       "      <td>0.000000</td>\n",
       "    </tr>\n",
       "    <tr>\n",
       "      <th>239</th>\n",
       "      <td>Aphrodite</td>\n",
       "      <td>1.299106</td>\n",
       "      <td>1.300000</td>\n",
       "      <td>0</td>\n",
       "      <td>25.691231</td>\n",
       "      <td>0.128055</td>\n",
       "      <td>0.664323</td>\n",
       "      <td>0.357559</td>\n",
       "      <td>0.009896</td>\n",
       "      <td>0.036862</td>\n",
       "      <td>...</td>\n",
       "      <td>0.368000</td>\n",
       "      <td>52552.128019</td>\n",
       "      <td>0.628246</td>\n",
       "      <td>0.004579</td>\n",
       "      <td>0.000365</td>\n",
       "      <td>0.006110</td>\n",
       "      <td>4</td>\n",
       "      <td>53.156333</td>\n",
       "      <td>-27.779611</td>\n",
       "      <td>0.000000</td>\n",
       "    </tr>\n",
       "  </tbody>\n",
       "</table>\n",
       "<p>740 rows × 21 columns</p>\n",
       "</div>"
      ],
      "text/plain": [
       "         #name      zcmb      zhel  dz         mb       dmb        x1  \\\n",
       "648   sn1999ac  0.010060  0.009500   0  14.148421  0.174566  0.202688   \n",
       "691    sn2004s  0.010291  0.009370   0  14.157498  0.173593 -0.117402   \n",
       "641   sn1997do  0.010550  0.010120   0  14.449314  0.173090  0.791332   \n",
       "673   sn2002dp  0.010888  0.011638   0  14.557203  0.169021 -0.316464   \n",
       "713   sn2006bh  0.011184  0.010900   0  14.342973  0.166533 -1.648794   \n",
       "..         ...       ...       ...  ..        ...       ...       ...   \n",
       "225     06D3en  1.060801  1.060000   0  24.707870  0.132013 -0.952679   \n",
       "242       Gabi  1.120850  1.120000   0  25.147113  0.121686  0.620453   \n",
       "243  Lancaster  1.230892  1.230000   0  26.046776  0.128558 -0.077374   \n",
       "614  Torngasek  1.265901  1.265000   0  25.735598  0.128614  0.286816   \n",
       "239  Aphrodite  1.299106  1.300000   0  25.691231  0.128055  0.664323   \n",
       "\n",
       "          dx1     color    dcolor  ...   d3rdvar          tmax     dtmax  \\\n",
       "648  0.068440  0.048593  0.025981  ...  0.128500  51250.610935  0.078970   \n",
       "691  0.082511  0.022258  0.024846  ...  0.280891  53040.308109  0.290845   \n",
       "641  0.187870  0.118415  0.030547  ...  0.280891  50766.597803  0.115604   \n",
       "673  0.184325  0.054095  0.023005  ...  0.363500  52451.216137  0.133147   \n",
       "713  0.032216 -0.083155  0.019407  ...  0.352000  53833.523740  0.039787   \n",
       "..        ...       ...       ...  ...       ...           ...       ...   \n",
       "225  0.412773 -0.158207  0.061030  ...  0.935000  53881.407872  0.949506   \n",
       "242  0.307485 -0.075491  0.053200  ...  0.296000  53488.738514  0.524573   \n",
       "243  0.690464  0.087011  0.048271  ...  0.194500  53431.841687  1.597837   \n",
       "614  0.559546  0.021062  0.047718  ...  0.391000  52693.622067  1.790259   \n",
       "239  0.357559  0.009896  0.036862  ...  0.368000  52552.128019  0.628246   \n",
       "\n",
       "      cov_m_s   cov_m_c   cov_s_c  set          ra        dec   biascor  \n",
       "648  0.000244  0.000652 -0.000154    3  241.812542   7.972333 -0.008427  \n",
       "691 -0.000483  0.000665 -0.000348    3  101.431250 -31.231250 -0.008430  \n",
       "641  0.003521  0.000989  0.001322    3  111.677083  47.093333 -0.008434  \n",
       "673  0.001596  0.000487  0.001020    3  352.125430  22.427240 -0.008440  \n",
       "713 -0.000039  0.000286 -0.000115    3  340.067078 -66.485085 -0.008446  \n",
       "..        ...       ...       ...  ...         ...        ...       ...  \n",
       "225  0.010444 -0.003050  0.004456    1  215.305567  52.456079 -0.036389  \n",
       "242  0.004032  0.000388  0.005988    4  189.057630  62.202100  0.000000  \n",
       "243  0.003542  0.000211  0.008241    4  189.236330  62.214814  0.000000  \n",
       "614 -0.003817 -0.000169  0.003064    4  189.331960  62.310417  0.000000  \n",
       "239  0.004579  0.000365  0.006110    4   53.156333 -27.779611  0.000000  \n",
       "\n",
       "[740 rows x 21 columns]"
      ]
     },
     "execution_count": 3,
     "metadata": {},
     "output_type": "execute_result"
    }
   ],
   "source": [
    "data = pd.read_csv(\"../datos/dataSupernova/jla_lcparams.txt\", sep=\" \")\n",
    "data = data.sort_values(\"zcmb\")\n",
    "data"
   ]
  },
  {
   "cell_type": "code",
   "execution_count": 4,
   "metadata": {},
   "outputs": [],
   "source": [
    "mb = data[\"mb\"]\n",
    "X1 = data[\"x1\"]\n",
    "C = data[\"color\"]"
   ]
  },
  {
   "cell_type": "code",
   "execution_count": 5,
   "metadata": {},
   "outputs": [],
   "source": [
    "def calc_mu(alpha, beta, Mb):\n",
    "    mu_aux = []\n",
    "    for index in data.index:\n",
    "        mu_aux.append(mb[index] - (Mb - alpha * X1[index] + beta * C[index]))\n",
    "    return mu_aux"
   ]
  },
  {
   "cell_type": "code",
   "execution_count": 6,
   "metadata": {},
   "outputs": [
    {
     "data": {
      "image/png": "[encoded data removed]",
      "text/plain": [
       "<Figure size 432x288 with 1 Axes>"
      ]
     },
     "metadata": {
      "needs_background": "light"
     },
     "output_type": "display_data"
    }
   ],
   "source": [
    "plt.scatter(data[\"zcmb\"], calc_mu(alpha = 0.141, beta = 3.01, Mb = -19.05))\n",
    "plt.xscale('log')\n",
    "plt.xlim(0.005, 2)\n",
    "plt.grid()\n",
    "d=1"
   ]
  },
  {
   "cell_type": "code",
   "execution_count": 7,
   "metadata": {},
   "outputs": [],
   "source": [
    "import cosmolopy.distance as cd"
   ]
  },
  {
   "cell_type": "code",
   "execution_count": 8,
   "metadata": {},
   "outputs": [],
   "source": [
    "zcmb = data[\"zcmb\"]"
   ]
  },
  {
   "cell_type": "code",
   "execution_count": 9,
   "metadata": {},
   "outputs": [],
   "source": [
    "def mu_teo(omega):\n",
    "    cosmo = {'omega_M_0':omega, 'omega_lambda_0':1-omega, 'omega_k_0':0.0, 'h':0.7}\n",
    "    lumdits = 5 * np.log10(cd.luminosity_distance(zcmb,**cosmo)*1e6/10)\n",
    "    return lumdits"
   ]
  },
  {
   "cell_type": "code",
   "execution_count": 10,
   "metadata": {},
   "outputs": [
    {
     "ename": "NameError",
     "evalue": "name 'lumdits' is not defined",
     "output_type": "error",
     "traceback": [
      "\u001b[1;31m---------------------------------------------------------------------------\u001b[0m",
      "\u001b[1;31mNameError\u001b[0m                                 Traceback (most recent call last)",
      "\u001b[1;32m<ipython-input-10-3c3caf844ab2>\u001b[0m in \u001b[0;36m<module>\u001b[1;34m\u001b[0m\n\u001b[0;32m      1\u001b[0m \u001b[0mplt\u001b[0m\u001b[1;33m.\u001b[0m\u001b[0mscatter\u001b[0m\u001b[1;33m(\u001b[0m\u001b[0mzcmb\u001b[0m\u001b[1;33m,\u001b[0m \u001b[0mcalc_mu\u001b[0m\u001b[1;33m(\u001b[0m\u001b[0malpha\u001b[0m \u001b[1;33m=\u001b[0m \u001b[1;36m0.141\u001b[0m\u001b[1;33m,\u001b[0m \u001b[0mbeta\u001b[0m \u001b[1;33m=\u001b[0m \u001b[1;36m3.01\u001b[0m\u001b[1;33m,\u001b[0m \u001b[0mMb\u001b[0m \u001b[1;33m=\u001b[0m \u001b[1;33m-\u001b[0m\u001b[1;36m19.05\u001b[0m\u001b[1;33m)\u001b[0m\u001b[1;33m)\u001b[0m\u001b[1;33m\u001b[0m\u001b[1;33m\u001b[0m\u001b[0m\n\u001b[1;32m----> 2\u001b[1;33m \u001b[0mplt\u001b[0m\u001b[1;33m.\u001b[0m\u001b[0mscatter\u001b[0m\u001b[1;33m(\u001b[0m\u001b[0mzcmb\u001b[0m\u001b[1;33m,\u001b[0m \u001b[0mlumdits\u001b[0m\u001b[1;33m)\u001b[0m\u001b[1;33m\u001b[0m\u001b[1;33m\u001b[0m\u001b[0m\n\u001b[0m\u001b[0;32m      3\u001b[0m \u001b[0mplt\u001b[0m\u001b[1;33m.\u001b[0m\u001b[0mxscale\u001b[0m\u001b[1;33m(\u001b[0m\u001b[1;34m'log'\u001b[0m\u001b[1;33m)\u001b[0m\u001b[1;33m\u001b[0m\u001b[1;33m\u001b[0m\u001b[0m\n\u001b[0;32m      4\u001b[0m \u001b[0mplt\u001b[0m\u001b[1;33m.\u001b[0m\u001b[0mxlim\u001b[0m\u001b[1;33m(\u001b[0m\u001b[1;36m0.005\u001b[0m\u001b[1;33m,\u001b[0m \u001b[1;36m2\u001b[0m\u001b[1;33m)\u001b[0m\u001b[1;33m\u001b[0m\u001b[1;33m\u001b[0m\u001b[0m\n\u001b[0;32m      5\u001b[0m \u001b[0mplt\u001b[0m\u001b[1;33m.\u001b[0m\u001b[0mgrid\u001b[0m\u001b[1;33m(\u001b[0m\u001b[1;33m)\u001b[0m\u001b[1;33m\u001b[0m\u001b[1;33m\u001b[0m\u001b[0m\n",
      "\u001b[1;31mNameError\u001b[0m: name 'lumdits' is not defined"
     ]
    },
    {
     "data": {
      "image/png": "[encoded data removed]",
      "text/plain": [
       "<Figure size 432x288 with 1 Axes>"
      ]
     },
     "metadata": {
      "needs_background": "light"
     },
     "output_type": "display_data"
    }
   ],
   "source": [
    "plt.scatter(zcmb, calc_mu(alpha = 0.141, beta = 3.01, Mb = -19.05))\n",
    "plt.scatter(zcmb, lumdits)\n",
    "plt.xscale('log')\n",
    "plt.xlim(0.005, 2)\n",
    "plt.grid()"
   ]
  },
  {
   "cell_type": "code",
   "execution_count": 17,
   "metadata": {},
   "outputs": [],
   "source": [
    "mat0 = pd.read_csv(\"../datos/dataSupernova/jla_v0_covmatrix.dat\", sep=\" \").to_numpy().reshape(740, 740)\n",
    "mat1 = pd.read_csv(\"../datos/dataSupernova/jla_v0a_covmatrix.dat\", sep=\" \").to_numpy().reshape(740, 740)\n",
    "mat2 = pd.read_csv(\"../datos/dataSupernova/jla_v0b_covmatrix.dat\", sep=\" \").to_numpy().reshape(740, 740)\n",
    "mat3 = pd.read_csv(\"../datos/dataSupernova/jla_va_covmatrix.dat\", sep=\" \").to_numpy().reshape(740, 740)\n",
    "mat4 = pd.read_csv(\"../datos/dataSupernova/jla_vab_covmatrix.dat\", sep=\" \").to_numpy().reshape(740, 740)\n",
    "mat5 = pd.read_csv(\"../datos/dataSupernova/jla_vb_covmatrix.dat\", sep=\" \").to_numpy().reshape(740, 740)"
   ]
  },
  {
   "cell_type": "code",
   "execution_count": 18,
   "metadata": {},
   "outputs": [],
   "source": [
    "covarianceMatrix = mat0 + mat1 + mat2 + mat3 + mat4 + mat5"
   ]
  },
  {
   "cell_type": "code",
   "execution_count": 19,
   "metadata": {},
   "outputs": [
    {
     "data": {
      "image/png": "[encoded data removed]",
      "text/plain": [
       "<Figure size 432x288 with 1 Axes>"
      ]
     },
     "metadata": {
      "needs_background": "light"
     },
     "output_type": "display_data"
    }
   ],
   "source": [
    "plt.errorbar(zcmb, calc_mu(alpha = 0.141, beta = 3.01, Mb = -19.05), yerr = np.diag(covarianceMatrix))\n",
    "plt.xscale('log')"
   ]
  },
  {
   "cell_type": "markdown",
   "metadata": {},
   "source": [
    "## Nueva función Chi Square"
   ]
  },
  {
   "cell_type": "code",
   "execution_count": 20,
   "metadata": {},
   "outputs": [],
   "source": [
    "covariance_inverse = covarianceMatrix"
   ]
  },
  {
   "cell_type": "code",
   "execution_count": 21,
   "metadata": {},
   "outputs": [],
   "source": [
    "# params[0] = alpha, params[1] = beta, params[2] = M, params[3] = omega\n",
    "def newChi(params):\n",
    "    mu_obs = calc_mu(alpha = params[0], beta = params[1], Mb = params[2])\n",
    "    resta = (mu_obs - mu_teo(params[3]))\n",
    "    \n",
    "    aux = np.sum(np.matmul(resta.T, covariance_inverse) * resta)\n",
    "    return aux"
   ]
  },
  {
   "cell_type": "code",
   "execution_count": 22,
   "metadata": {},
   "outputs": [
    {
     "data": {
      "text/plain": [
       "2.3498300052847534"
      ]
     },
     "execution_count": 22,
     "metadata": {},
     "output_type": "execute_result"
    }
   ],
   "source": [
    "newChi([0.1, 3, -19, 0.5])"
   ]
  },
  {
   "cell_type": "code",
   "execution_count": 23,
   "metadata": {},
   "outputs": [],
   "source": [
    "# omega va de 0 a 1"
   ]
  },
  {
   "cell_type": "markdown",
   "metadata": {},
   "source": [
    "## Aplicando optimize"
   ]
  },
  {
   "cell_type": "code",
   "execution_count": 24,
   "metadata": {},
   "outputs": [
    {
     "data": {
      "text/plain": [
       "      fun: 0.30961786206122016\n",
       " hess_inv: array([[ 4.49432201e-02, -4.11035938e-01, -7.58657824e-03,\n",
       "         6.45243246e-05],\n",
       "       [-4.11035938e-01,  1.65610322e+01,  1.01715541e-02,\n",
       "        -7.06981128e-01],\n",
       "       [-7.58657824e-03,  1.01715541e-02,  6.59535776e-03,\n",
       "         1.25956685e-02],\n",
       "       [ 6.45243246e-05, -7.06981128e-01,  1.25956685e-02,\n",
       "         5.73176056e-02]])\n",
       "      jac: array([-1.52736902e-07,  4.28408384e-07,  7.89761543e-06, -4.51132655e-06])\n",
       "  message: 'Optimization terminated successfully.'\n",
       "     nfev: 114\n",
       "      nit: 16\n",
       "     njev: 19\n",
       "   status: 0\n",
       "  success: True\n",
       "        x: array([  0.13720092,   1.13194288, -19.11066529,   0.32253757])"
      ]
     },
     "execution_count": 24,
     "metadata": {},
     "output_type": "execute_result"
    }
   ],
   "source": [
    "optimization = minimize(newChi, [0.1,3,-19,0.5])\n",
    "optimization"
   ]
  }
 ],
 "metadata": {
  "kernelspec": {
   "display_name": "Python 3",
   "language": "python",
   "name": "python3"
  },
  "language_info": {
   "codemirror_mode": {
    "name": "ipython",
    "version": 3
   },
   "file_extension": ".py",
   "mimetype": "text/x-python",
   "name": "python",
   "nbconvert_exporter": "python",
   "pygments_lexer": "ipython3",
   "version": "3.8.1"
  }
 },
 "nbformat": 4,
 "nbformat_minor": 4
}
