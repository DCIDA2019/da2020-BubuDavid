{
 "cells": [
  {
   "cell_type": "markdown",
   "metadata": {},
   "source": [
    "# Resolviendo el péndulo simple con ayuda de los arreglos de numpy"
   ]
  },
  {
   "cell_type": "markdown",
   "metadata": {},
   "source": [
    "### En el siguiente código, se hace uso de varias funciones y métodos de numpy para arreglos, fue genial porque me ahorró bastante código, aunque este sea un ejercicio sencillo"
   ]
  },
  {
   "cell_type": "markdown",
   "metadata": {},
   "source": [
    "Importando cosas importantes"
   ]
  },
  {
   "cell_type": "code",
   "execution_count": 247,
   "metadata": {},
   "outputs": [],
   "source": [
    "import numpy as np\n",
    "import matplotlib.pyplot as plt"
   ]
  },
  {
   "cell_type": "markdown",
   "metadata": {},
   "source": [
    "A continuación, se declara la función Runge_Kutta para resolver la ecuación: \n",
    "$ \\ddot{\\theta} + \\omega \\theta = 0 $"
   ]
  },
  {
   "cell_type": "markdown",
   "metadata": {},
   "source": [
    "**Nota: Se usará el algoritmo de 5.7 del libro \"Numerical Analysis\" de Burden Faires, novena edición**"
   ]
  },
  {
   "cell_type": "code",
   "execution_count": 248,
   "metadata": {},
   "outputs": [],
   "source": [
    "def Runge_Kutta(a, b, m, n, alpha, f):\n",
    "    # Definir variables\n",
    "    h = (b-a)/n\n",
    "    t = a\n",
    "    \n",
    "    w = np.zeros((n+1,m))\n",
    "    w[0] = np.copy(alpha)\n",
    "    \n",
    "    # Definiendo k's (Nos ayudará más adelante en el código) (Es una matriz)\n",
    "    k = np.zeros((4,m))    \n",
    "    \n",
    "    # Agregando todo lo necesario para que Runge_Kutta haga su trabajo\n",
    "    for i in range(n):\n",
    "        \n",
    "        # Generando primera k\n",
    "        for j in range(m):\n",
    "            k[0][j] = h*f[j](t, w[i])\n",
    "            \n",
    "        # Ajustes para la segunda k\n",
    "        auxiliar = []\n",
    "        for j in range(m):\n",
    "            auxiliar.append(w[i][j] + 1/2*k[0][j])\n",
    "        \n",
    "        # Generando segunda k\n",
    "        for j in range(m):\n",
    "            k[1][j] = h*f[j](t+h/2, auxiliar)\n",
    "            \n",
    "        # Ajustes para la tercer k\n",
    "        auxiliar = []\n",
    "        for j in range(m):\n",
    "            auxiliar.append(w[i][j] + 1/2*k[1][j])\n",
    "            \n",
    "        # Generando tercer k\n",
    "        for j in range(m):\n",
    "            k[2][j] = h*f[j](t+h/2, auxiliar)\n",
    "            \n",
    "        # Ajustes para la cuarta k\n",
    "        auxiliar = []\n",
    "        for j in range(m):\n",
    "            auxiliar.append(w[i][j]+k[2][j])\n",
    "        \n",
    "        # Generando cuarta k\n",
    "        for j in range(m):\n",
    "            k[3][j] = h*f[j](t+h, auxiliar)\n",
    "            \n",
    "        # Generando la aproximación a la solución en el tiempo i-ésimo\n",
    "        for j in range(m):\n",
    "            w[i+1][j] = w[i][j] + (k[0][j] + 2*k[1][j] + 2*k[2][j] + k[3][j])/6\n",
    "        \n",
    "        t = a + (i+1)*h\n",
    "        \n",
    "    # Imprimiento y guardando en un archivo para graficar después la información\n",
    "    print(w)\n",
    "    w.tofile(\"CodigoNumpyData.txt\", \" \", \"%s\")"
   ]
  },
  {
   "cell_type": "markdown",
   "metadata": {},
   "source": [
    "Definimos omega ($\\omega$)"
   ]
  },
  {
   "cell_type": "markdown",
   "metadata": {},
   "source": [
    "Donde $\\omega = \\sqrt{\\frac{g}{l}}$"
   ]
  },
  {
   "cell_type": "markdown",
   "metadata": {},
   "source": [
    "$g = 9.81 \\frac{m}{s^{2}}, l = 1 m$"
   ]
  },
  {
   "cell_type": "code",
   "execution_count": 249,
   "metadata": {},
   "outputs": [],
   "source": [
    "omega = (9.8)**(1./2.)"
   ]
  },
  {
   "cell_type": "markdown",
   "metadata": {},
   "source": [
    "Definiendo el sistema de ecuación para introducirlo en la función anterior"
   ]
  },
  {
   "cell_type": "code",
   "execution_count": 250,
   "metadata": {},
   "outputs": [],
   "source": [
    "def eq1(t, u):\n",
    "    return u[1]\n",
    "\n",
    "def eq2(t, u):\n",
    "    return (-1)*omega*u[0]\n",
    "    \n",
    "f = np.array([eq1, eq2])"
   ]
  },
  {
   "cell_type": "markdown",
   "metadata": {},
   "source": [
    "Ejecutando el método Runge Kutta"
   ]
  },
  {
   "cell_type": "markdown",
   "metadata": {},
   "source": [
    "**Nota: Las condiciones iniciales para nuestro péndulo serán, ángulo inicial: $\\frac{\\pi}{4}$, velocidad: 0**"
   ]
  },
  {
   "cell_type": "code",
   "execution_count": 252,
   "metadata": {},
   "outputs": [
    {
     "name": "stdout",
     "output_type": "stream",
     "text": [
      "[[ 0.78539816  0.        ]\n",
      " [ 0.78341808 -0.09861307]\n",
      " [ 0.77748781 -0.1967289 ]\n",
      " [ 0.76763725 -0.29385278]\n",
      " [ 0.75391608 -0.38949499]\n",
      " [ 0.73639348 -0.48317326]\n",
      " [ 0.7151578  -0.57441526]\n",
      " [ 0.69031613 -0.66276091]\n",
      " [ 0.66199371 -0.74776476]\n",
      " [ 0.63033335 -0.82899819]\n",
      " [ 0.5954947  -0.90605162]\n",
      " [ 0.55765342 -0.97853651]\n",
      " [ 0.51700032 -1.04608738]\n",
      " [ 0.47374037 -1.10836362]\n",
      " [ 0.42809171 -1.16505122]\n",
      " [ 0.38028451 -1.21586434]\n",
      " [ 0.33055982 -1.26054678]\n",
      " [ 0.27916836 -1.29887324]\n",
      " [ 0.22636927 -1.33065046]\n",
      " [ 0.17242877 -1.35571821]\n",
      " [ 0.11761884 -1.3739501 ]\n",
      " [ 0.06221585 -1.38525419]\n",
      " [ 0.00649915 -1.3895735 ]\n",
      " [-0.04925032 -1.38688623]\n",
      " [-0.10475145 -1.37720595]\n",
      " [-0.15972441 -1.36058145]\n",
      " [-0.21389199 -1.33709657]\n",
      " [-0.26698108 -1.30686972]\n",
      " [-0.31872398 -1.27005332]\n",
      " [-0.3688598  -1.22683299]\n",
      " [-0.41713574 -1.17742667]\n",
      " [-0.46330838 -1.12208348]\n",
      " [-0.5071449  -1.06108247]\n",
      " [-0.54842428 -0.99473122]\n",
      " [-0.58693836 -0.9233643 ]\n",
      " [-0.62249296 -0.84734154]\n",
      " [-0.65490879 -0.76704628]\n",
      " [-0.68402242 -0.68288339]\n",
      " [-0.70968703 -0.59527723]\n",
      " [-0.73177324 -0.50466954]\n",
      " [-0.75016966 -0.41151718]\n",
      " [-0.76478354 -0.31628985]\n",
      " [-0.77554119 -0.21946771]\n",
      " [-0.78238838 -0.12153896]\n",
      " [-0.78529057 -0.02299738]\n",
      " [-0.78423314  0.07566016]\n",
      " [-0.77922141  0.1739362 ]\n",
      " [-0.77028065  0.27133521]\n",
      " [-0.75745595  0.36736609]\n",
      " [-0.74081198  0.46154461]\n",
      " [-0.72043264  0.55339591]\n",
      " [-0.69642071  0.64245685]\n",
      " [-0.66889726  0.72827837]\n",
      " [-0.63800106  0.81042773]\n",
      " [-0.60388791  0.88849072]\n",
      " [-0.5667298   0.96207372]\n",
      " [-0.5267141   1.0308057 ]\n",
      " [-0.48404258  1.09434011]\n",
      " [-0.43893041  1.15235659]\n",
      " [-0.39160503  1.20456261]\n",
      " [-0.34230509  1.25069493]\n",
      " [-0.29127916  1.29052093]\n",
      " [-0.23878453  1.32383981]\n",
      " [-0.18508589  1.35048357]\n",
      " [-0.13045401  1.37031786]\n",
      " [-0.07516434  1.38324267]\n",
      " [-0.01949567  1.38919284]\n",
      " [ 0.03627129  1.38813835]\n",
      " [ 0.09185537  1.38008453]\n",
      " [ 0.14697629  1.36507198]\n",
      " [ 0.20135612  1.34317641]\n",
      " [ 0.25472067  1.31450821]\n",
      " [ 0.30680085  1.27921194]\n",
      " [ 0.35733406  1.23746557]\n",
      " [ 0.40606551  1.1894796 ]\n",
      " [ 0.45274947  1.13549598]\n",
      " [ 0.49715057  1.07578691]\n",
      " [ 0.5390449   1.01065346]\n",
      " [ 0.57822124  0.94042405]\n",
      " [ 0.61448205  0.86545279]\n",
      " [ 0.64764449  0.7861177 ]\n",
      " [ 0.67754135  0.70281882]\n",
      " [ 0.70402187  0.61597615]\n",
      " [ 0.72695255  0.52602758]\n",
      " [ 0.74621775  0.43342665]\n",
      " [ 0.76172034  0.33864027]\n",
      " [ 0.77338215  0.24214639]\n",
      " [ 0.78114438  0.14443155]\n",
      " [ 0.78496789  0.04598845]\n",
      " [ 0.78483339 -0.05268653]\n",
      " [ 0.78074158 -0.15109586]\n",
      " [ 0.77271307 -0.24874333]\n",
      " [ 0.76078836 -0.34513657]\n",
      " [ 0.74502756 -0.43978954]\n",
      " [ 0.72551015 -0.53222499]\n",
      " [ 0.70233455 -0.62197683]\n",
      " [ 0.6756176  -0.70859251]\n",
      " [ 0.64549402 -0.7916353 ]\n",
      " [ 0.6121157  -0.87068646]\n",
      " [ 0.57565094 -0.94534741]\n",
      " [ 0.53628362 -1.01524169]]\n",
      "Wall time: 8.97 ms\n"
     ]
    }
   ],
   "source": [
    "%time Runge_Kutta(a = 0., b = 4*np.pi/omega, m = 2, n = 100, alpha = np.array([np.pi/4, 0]), f = f)"
   ]
  },
  {
   "cell_type": "markdown",
   "metadata": {},
   "source": [
    "Abriendo el archivo \"CodigoNumpyData.txt\" y extrayendo la información"
   ]
  },
  {
   "cell_type": "code",
   "execution_count": 253,
   "metadata": {},
   "outputs": [
    {
     "name": "stdout",
     "output_type": "stream",
     "text": [
      "Wall time: 1.13 ms\n",
      "[ 0.78539816  0.78341808  0.77748781  0.76763725  0.75391608  0.73639348\n",
      "  0.7151578   0.69031613  0.66199371  0.63033335  0.5954947   0.55765342\n",
      "  0.51700032  0.47374037  0.42809171  0.38028451  0.33055982  0.27916836\n",
      "  0.22636927  0.17242877  0.11761884  0.06221585  0.00649915 -0.04925032\n",
      " -0.10475145 -0.15972441 -0.21389199 -0.26698108 -0.31872398 -0.3688598\n",
      " -0.41713574 -0.46330838 -0.5071449  -0.54842428 -0.58693836 -0.62249296\n",
      " -0.65490879 -0.68402242 -0.70968703 -0.73177324 -0.75016966 -0.76478354\n",
      " -0.77554119 -0.78238838 -0.78529057 -0.78423314 -0.77922141 -0.77028065\n",
      " -0.75745595 -0.74081198 -0.72043264 -0.69642071 -0.66889726 -0.63800106\n",
      " -0.60388791 -0.5667298  -0.5267141  -0.48404258 -0.43893041 -0.39160503\n",
      " -0.34230509 -0.29127916 -0.23878453 -0.18508589 -0.13045401 -0.07516434\n",
      " -0.01949567  0.03627129  0.09185537  0.14697629  0.20135612  0.25472067\n",
      "  0.30680085  0.35733406  0.40606551  0.45274947  0.49715057  0.5390449\n",
      "  0.57822124  0.61448205  0.64764449  0.67754135  0.70402187  0.72695255\n",
      "  0.74621775  0.76172034  0.77338215  0.78114438  0.78496789  0.78483339\n",
      "  0.78074158  0.77271307  0.76078836  0.74502756  0.72551015  0.70233455\n",
      "  0.6756176   0.64549402  0.6121157   0.57565094  0.53628362]\n"
     ]
    }
   ],
   "source": [
    "%time aux = np.fromfile(\"CodigoNumpyData.txt\", sep=\" \")\n",
    "O = np.array(())\n",
    "# El código anterior me dio todos los resultados, pero yo sólo necesito los del ángulo, no velocidad angular.\n",
    "# Con el siguiente código se arregla eso:\n",
    "for index, value in enumerate(aux):\n",
    "    if(index%2 == 0):\n",
    "        O = np.append(O,value)\n",
    "\n",
    "print(O)"
   ]
  },
  {
   "cell_type": "code",
   "execution_count": 254,
   "metadata": {},
   "outputs": [
    {
     "name": "stdout",
     "output_type": "stream",
     "text": [
      "Wall time: 2 ms\n"
     ]
    },
    {
     "data": {
      "image/png": "[encoded data removed]",
      "text/plain": [
       "<Figure size 432x288 with 1 Axes>"
      ]
     },
     "metadata": {
      "needs_background": "light"
     },
     "output_type": "display_data"
    }
   ],
   "source": [
    "t = np.arange(0, 4*np.pi/omega, (4*np.pi/omega)/101)\n",
    "plt.title(\"Aproximación con Runge Kutta de un péndulo\")\n",
    "%time plt.plot(t, O, label = \"Aproximación por Runge Kutta\")\n",
    "plt.legend()\n",
    "plt.show()"
   ]
  },
  {
   "cell_type": "markdown",
   "metadata": {},
   "source": [
    "Notar que esto parece una gráfica que un coseno, de hecho veamos la comparación:"
   ]
  },
  {
   "cell_type": "code",
   "execution_count": 239,
   "metadata": {},
   "outputs": [
    {
     "data": {
      "image/png": "[encoded data removed]",
      "text/plain": [
       "<Figure size 432x288 with 1 Axes>"
      ]
     },
     "metadata": {
      "needs_background": "light"
     },
     "output_type": "display_data"
    }
   ],
   "source": [
    "t = np.arange(0, 4*np.pi/omega, (4*np.pi/omega)/101)\n",
    "t2 = np.linspace(0, 4*np.pi/omega)\n",
    "plt.title(\"Aproximación con Runge Kutta de un péndulo\")\n",
    "plt.plot(t2, np.pi/4*np.cos(t2 * omega**(1/2)), label = \"Solución\")\n",
    "plt.plot(t, O, label = \"Aproximación\")\n",
    "plt.legend()\n",
    "plt.show()"
   ]
  },
  {
   "cell_type": "markdown",
   "metadata": {},
   "source": [
    "En la gráfica anterior, se compara un coseno solución a la ecuación diferencial y la aproximación de Runge Kutta, note que son casi la misma gráfica y sólo difieren en muy pocos puntos."
   ]
  },
  {
   "cell_type": "markdown",
   "metadata": {},
   "source": [
    "Note que en este código hicimos uso de varias funciones de arreglos de numpy. tofile, fromfile, append, array, zeros, copy, etc... \n",
    "\n",
    "Esto fue de increíble conveniencia porque el código se redujo de manera significable y no hay necesidad de escribir cosas innecesarias"
   ]
  }
 ],
 "metadata": {
  "kernelspec": {
   "display_name": "Python 3",
   "language": "python",
   "name": "python3"
  },
  "language_info": {
   "codemirror_mode": {
    "name": "ipython",
    "version": 3
   },
   "file_extension": ".py",
   "mimetype": "text/x-python",
   "name": "python",
   "nbconvert_exporter": "python",
   "pygments_lexer": "ipython3",
   "version": "3.7.4"
  }
 },
 "nbformat": 4,
 "nbformat_minor": 4
}
